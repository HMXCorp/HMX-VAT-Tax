{
  "cells": [
    {
      "cell_type": "code",
      "execution_count": 13,
      "metadata": {
        "jupyter": {
          "outputs_hidden": false,
          "source_hidden": false
        },
        "nteract": {
          "transient": {
            "deleting": false
          }
        }
      },
      "outputs": [],
      "source": [
        "%%configure -f\n",
        "{\n",
        "    \"conf\":\n",
        "    {\n",
        "        \"spark.sql.shuffle.partitions\": 64,\n",
        "        \"spark.sql.broadcastTimeout\": 14400,\n",
        "        \"spark.port.maxRetries\": 100,\n",
        "        \"spark.executor.allowSparkContext\": \"true\"\n",
        "\n",
        "    }\n",
        "}"
      ]
    },
    {
      "cell_type": "code",
      "execution_count": 14,
      "metadata": {},
      "outputs": [],
      "source": [
        "# Import from Whl\n",
        "\n",
        "from typing import Dict\n",
        "from transparency_engine.containers import ContainerKeys, build_container\n",
        "from transparency_engine.io.data_handler import DataHandler, DataHandlerModes\n",
        "from transparency_engine.pipeline import TransparencyPipeline\n",
        "from transparency_engine.typing import PipelineSteps\n"
      ]
    },
    {
      "cell_type": "markdown",
      "metadata": {
        "nteract": {
          "transient": {
            "deleting": false
          }
        }
      },
      "source": [
        "### Manually Update SubFolderpath for This Run"
      ]
    },
    {
      "cell_type": "code",
      "execution_count": null,
      "metadata": {
        "jupyter": {
          "outputs_hidden": false,
          "source_hidden": false
        },
        "nteract": {
          "transient": {
            "deleting": false
          }
        }
      },
      "outputs": [],
      "source": [
        "# MANUALLY UPDATE FOLDERPATH\n",
        "subfolderpath = 'BeneficialOwnership/2023-06-12'\n"
      ]
    },
    {
      "cell_type": "markdown",
      "metadata": {
        "nteract": {
          "transient": {
            "deleting": false
          }
        }
      },
      "source": [
        "## Pipeline Configurations"
      ]
    },
    {
      "cell_type": "code",
      "execution_count": 15,
      "metadata": {
        "jupyter": {
          "outputs_hidden": false,
          "source_hidden": false
        },
        "nteract": {
          "transient": {
            "deleting": false
          }
        }
      },
      "outputs": [],
      "source": [
        "pipeline_config = {\n",
        "    \"name\": \"Transparency Engine Pipeline\",\n",
        "    \"description\": \"Transparency Engine using open or customer data\",\n",
        "    \"storage\": {\n",
        "        \"type\": \"hive\",\n",
        "        \"root\": f\"BeneficialOwnership_{date}\"\n",
        "    },\n",
        "    \"steps\": [\n",
        "        \"prep\",\n",
        "        \"individual_link_prediction\",\n",
        "        \"individual_link_filtering\",\n",
        "        \"macro_link_prediction\",\n",
        "        \"macro_link_filtering\",\n",
        "        \"scoring\",\n",
        "        \"report\"\n",
        "    ]\n",
        "}\n"
      ]
    },
    {
      "cell_type": "code",
      "execution_count": null,
      "metadata": {
        "jupyter": {
          "outputs_hidden": false,
          "source_hidden": false
        },
        "nteract": {
          "transient": {
            "deleting": false
          }
        }
      },
      "outputs": [],
      "source": [
        "step_config = {\n",
        "    \"steps\": {\n",
        "        \"prep\": [\n",
        "            {\n",
        "                \"name\": \"activity\",\n",
        "                \"type\": \"dynamic\",\n",
        "                \"path\": f\"abfss://curated@storageAccountName.dfs.core.windows.net/{subfolderpath}/activity.csv\",\n",
        "                \"steps\": [\n",
        "                    \"load\",\n",
        "                    \"preprocess\"\n",
        "                ],\n",
        "                \"config\": {}\n",
        "            },\n",
        "            {\n",
        "                \"name\": \"contact\",\n",
        "                \"type\": \"static\",\n",
        "                \"path\": f\"abfss://curated@storageAccountName.dfs.core.windows.net/{subfolderpath}/contact.csv\",\n",
        "                \"steps\": [\n",
        "                    \"load\",\n",
        "                    \"fuzzy_match\",\n",
        "                    \"preprocess\"\n",
        "                ],\n",
        "                \"fuzzy_match_on\": [\n",
        "                    {\n",
        "                        \"name\": \"name\",\n",
        "                        \"config\": {\n",
        "                            \"min_similarity\": 0.9\n",
        "                        }\n",
        "                    },\n",
        "                    {\n",
        "                        \"name\": \"address\",\n",
        "                        \"config\": {\n",
        "                            \"min_similarity\": 0.9\n",
        "                        }\n",
        "                    }\n",
        "                ],\n",
        "                \"config\": {}\n",
        "            },\n",
        "            {\n",
        "                \"name\": \"ownership\",\n",
        "                \"type\": \"static\",\n",
        "                \"path\": f\"abfss://curated@storageAccountName.dfs.core.windows.net/{subfolderpath}/ownership.csv\",\n",
        "                \"steps\": [\n",
        "                    \"load\",\n",
        "                    \"preprocess\"\n",
        "                ],\n",
        "                \"config\": {}\n",
        "            },\n",
        "            {\n",
        "                \"name\": \"entity\",\n",
        "                \"type\": \"entity\",\n",
        "                \"path\": f\"abfss://curated@storageAccountName.dfs.core.windows.net/{subfolderpath}/entityweight.csv\",\n",
        "                \"steps\": [\n",
        "                    \"load\"\n",
        "                ]\n",
        "            },\n",
        "            {\n",
        "                \"name\": \"entityReviewFlag\",\n",
        "                \"type\": \"reviewflag\",\n",
        "                \"path\": f\"abfss://curated@storageAccountName.dfs.core.windows.net/{subfolderpath}/entityredflag.csv\",\n",
        "                \"metadata\": {\n",
        "                    \"type\": \"reviewflagmetadata\",\n",
        "                    \"path\": f\"abfss://curated@storageAccountName.dfs.core.windows.net/{subfolderpath}/redflagdefinition.csv\"\n",
        "                },\n",
        "                \"steps\": [\n",
        "                    \"load\",\n",
        "                    \"preprocess\"\n",
        "                ]\n",
        "            },\n",
        "            {\n",
        "                \"name\": \"attributeDefinition\",\n",
        "                \"type\": \"metadata\",\n",
        "                \"path\": f\"abfss://curated@storageAccountName.dfs.core.windows.net/{subfolderpath}/attributedefinition.csv\",\n",
        "                \"steps\": [\n",
        "                    \"load\"\n",
        "                ]\n",
        "            }\n",
        "        ],\n",
        "        \"individual_link_prediction\": {\n",
        "            \"static\": [\n",
        "                {\n",
        "                    \"name\": \"contact\",\n",
        "                    \"config\": {\n",
        "                        \"min_weight\": 0.01,\n",
        "                        \"min_similarity\": 0.01,\n",
        "                        \"direct_link_min_weight\": 0.01\n",
        "                    }\n",
        "                },\n",
        "                {\n",
        "                    \"name\": \"ownership\",\n",
        "                    \"config\": {\n",
        "                        \"min_weight\": 0.01,\n",
        "                        \"min_similarity\": 0.01,\n",
        "                        \"direct_link_min_weight\": 0.01\n",
        "                    }\n",
        "                }\n",
        "            ],\n",
        "            \"dynamic\": [\n",
        "                {\n",
        "                    \"name\": \"activity\",\n",
        "                    \"config\": {\n",
        "                        \"min_weight\": 1.0,\n",
        "                        \"sync_min_similarity\": 0.5,\n",
        "                        \"async_min_similarity\": 0.5,\n",
        "                        \"n_connected_components\": 100,\n",
        "                        \"min_component_size\": 5\n",
        "                    }\n",
        "                }\n",
        "            ]\n",
        "        },\n",
        "        \"individual_link_filtering\": {\n",
        "            \"dynamic\": [\n",
        "                {\n",
        "                    \"name\": \"activity\",\n",
        "                    \"config\": {\n",
        "                        \"min_overall_similarity\": 0.0,\n",
        "                        \"min_sync_similarity\": 0.8,\n",
        "                        \"min_async_similarity\": 0.8,\n",
        "                        \"sync_attributes\": [\n",
        "                            \"tender\",\n",
        "                            \"buyer\",\n",
        "                            \"item\"\n",
        "                        ],\n",
        "                        \"async_attributes\": [\n",
        "                            \"buyer\",\n",
        "                            \"item\"\n",
        "                        ]\n",
        "                    }\n",
        "                }\n",
        "            ]\n",
        "        },\n",
        "        \"macro_link_prediction\": {\n",
        "            \"name\": \"macro\",\n",
        "            \"inputs\": [\n",
        "                \"activity_filtered_links\",\n",
        "                \"contact_links\",\n",
        "                \"ownership_links\"\n",
        "            ],\n",
        "            \"config\": {\n",
        "                \"min_weight\": 0.1,\n",
        "                \"min_similarity\": 0.1,\n",
        "                \"direct_link_min_weight\": 0.1\n",
        "            }\n",
        "        },\n",
        "        \"macro_link_filtering\": {\n",
        "            \"name\": \"macro\",\n",
        "            \"static\": [\n",
        "                {\n",
        "                    \"name\": \"contact\",\n",
        "                    \"config\": {\n",
        "                        \"include_fuzzy_match\": True\n",
        "                    }\n",
        "                },\n",
        "                {\n",
        "                    \"name\": \"ownership\",\n",
        "                    \"config\": {\n",
        "                        \"include_fuzzy_match\": False\n",
        "                    }\n",
        "                }\n",
        "            ],\n",
        "            \"dynamic\": [\n",
        "                {\n",
        "                    \"name\": \"activity\",\n",
        "                    \"config\": {\n",
        "                        \"include_fuzzy_match\": False\n",
        "                    }\n",
        "                }\n",
        "            ],\n",
        "            \"config\": {\n",
        "                \"max_path_length\": 5\n",
        "            }\n",
        "        },\n",
        "        \"scoring\": {\n",
        "            \"entity\": \"entity\",\n",
        "            \"entity_flag\": \"entityReviewFlag\",\n",
        "            \"flag_metadata\": \"entityReviewFlag_metadata\",\n",
        "            \"predicted_links\": \"macro\",\n",
        "            \"config\": {}\n",
        "        },\n",
        "        \"report\": {\n",
        "            \"entity\": \"entity\",\n",
        "            \"static\": [\n",
        "                {\n",
        "                    \"name\": \"contact\",\n",
        "                    \"config\": {}\n",
        "                },\n",
        "                {\n",
        "                    \"name\": \"ownership\",\n",
        "                    \"config\": {}\n",
        "                }\n",
        "\n",
        "            ],\n",
        "            \"dynamic\": [\n",
        "                {\n",
        "                    \"name\": \"activity\",\n",
        "                    \"config\": {}\n",
        "                }\n",
        "            ],\n",
        "            \"other\": [],\n",
        "            \"entity_flag\": \"entityReviewFlag\",\n",
        "            \"network_score\": \"network_scoring\",\n",
        "            \"predicted_links\": \"macro\",\n",
        "            \"flag_metadata\": \"entityReviewFlag_metadata\",\n",
        "            \"attribute_metadata\": \"attributeDefinition\",\n",
        "            \"config\": {\n",
        "                \"sync_attributes\": [\n",
        "                    \"tender\",\n",
        "                    \"buyer\",\n",
        "                    \"item\"\n",
        "                ],\n",
        "                \"async_attributes\": [\n",
        "                    \"buyer\",\n",
        "                    \"item\"\n",
        "                ],\n",
        "                \"entity_name_attribute\": \"name\",\n",
        "                \"base_url\": \"http://localhost:3000/report/\"\n",
        "            }\n",
        "        }\n",
        "    }\n",
        "}"
      ]
    },
    {
      "cell_type": "markdown",
      "metadata": {
        "nteract": {
          "transient": {
            "deleting": false
          }
        }
      },
      "source": [
        "## Pipeline Execution"
      ]
    },
    {
      "cell_type": "code",
      "execution_count": 17,
      "metadata": {
        "jupyter": {
          "outputs_hidden": false,
          "source_hidden": false
        },
        "nteract": {
          "transient": {
            "deleting": false
          }
        }
      },
      "outputs": [],
      "source": [
        "pipeline = TransparencyPipeline()\n",
        "\n",
        "storage_config: Dict[str, str] = pipeline_config.get(\"storage\", dict())\n",
        "\n",
        "build_container(\n",
        "    {\n",
        "        ContainerKeys.STEP_CONFIG: step_config,\n",
        "        ContainerKeys.PIPELINE_CONFIG: pipeline_config,\n",
        "        ContainerKeys.DATA_HANDLER: (\n",
        "            DataHandler,\n",
        "            DataHandlerModes.from_string(storage_config.get(\"type\", \"\")),\n",
        "            storage_config.get(\"root\", \"\"),\n",
        "        ),\n",
        "    },\n",
        "    modules=[\"transparency_engine.pipeline\"],\n",
        "    packages=[],\n",
        ")"
      ]
    },
    {
      "cell_type": "code",
      "execution_count": null,
      "metadata": {
        "jupyter": {
          "outputs_hidden": false,
          "source_hidden": false
        },
        "nteract": {
          "transient": {
            "deleting": false
          }
        }
      },
      "outputs": [],
      "source": [
        "steps = PipelineSteps.from_string_list(pipeline_config.get(\"steps\", []))\n",
        "pipeline.run(steps=steps)"
      ]
    }
  ],
  "metadata": {
    "description": null,
    "kernelspec": {
      "display_name": "Synapse PySpark",
      "name": "synapse_pyspark"
    },
    "language_info": {
      "name": "python"
    },
    "save_output": true
  },
  "nbformat": 4,
  "nbformat_minor": 2
}
